{
 "cells": [
  {
   "cell_type": "code",
   "execution_count": 13,
   "metadata": {},
   "outputs": [],
   "source": [
    "def amortizar (**kwarg):\n",
    "    \n",
    "    print(kwarg)\n",
    "    print('Deuda: ', kwarg[\"d\"])\n",
    "    print('Tasa: ', kwarg[\"t\"])\n",
    "    print('Periodos: ', kwarg[\"n\"])\n",
    "    \n",
    "    d = float(kwarg[\"d\"])\n",
    "    t = float(kwarg[\"t\"])\n",
    "    n = int(kwarg[\"n\"])\n",
    "        \n",
    "    r = (d * t) / ( 1 - pow((1+t),-n)) # Cuota de Amortización\n",
    "    k = 0\n",
    "    tabla = []\n",
    "    while k!= n:\n",
    "        renglon = [] #estructura\n",
    "        \n",
    "        i = d * t # Interes\n",
    "        a = r - i # Amortización \n",
    "        d = d - a # Deuda\n",
    "        k += 1 # Contador \n",
    "        \n",
    "        renglon.append(i)\n",
    "        renglon.append(a)\n",
    "        renglon.append(d)\n",
    "        renglon.append(k)\n",
    "        tabla.append(renglon) #estructura\n",
    "    \n",
    "    for i in tabla:\n",
    "        print(i)"
   ]
  },
  {
   "cell_type": "code",
   "execution_count": 14,
   "metadata": {},
   "outputs": [],
   "source": [
    "def calculadora(a:float,b:float,opc:str):\n",
    "    \n",
    "    #a = float(input('ingrese la operacion'))\n",
    "    #b = float(input('ingrese la operacion'))\n",
    "    #opc = str(input('ingrese el signo de la operación'))\n",
    "    \n",
    "    \n",
    "    if opc=='+':\n",
    "        c = a + b\n",
    "        print(c)\n",
    "\n",
    "\n",
    "    if opc== '-':\n",
    "        c = a - b\n",
    "        print(c)\n",
    "\n",
    "\n",
    "    if opc== '*':\n",
    "        c = a * b\n",
    "        print(c)\n",
    "\n",
    "\n",
    "    if opc== '/':\n",
    "        if b > 0:\n",
    "            c= a / b\n",
    "            print(c)\n",
    "        else:\n",
    "            print('Operación inválida')"
   ]
  },
  {
   "cell_type": "code",
   "execution_count": 15,
   "metadata": {},
   "outputs": [],
   "source": [
    "def menu():\n",
    "    \n",
    "    print('*****************************************')\n",
    "    print(' Seleccione la tarea que desea realizar')\n",
    "    print('1, Tabla de amortización')\n",
    "    print('2, Calculadora básica')\n",
    "    opcion = input('Seleccion: ')\n",
    "    print('*****************************************')\n",
    "    \n",
    "    if opcion == '1':\n",
    "        d1 = input('Ingres el valor de la deuda: ')\n",
    "        t1 = input('Ingrese la tasa de amortización: ')\n",
    "        n1 = input('Ingrese el número de periodos: ')\n",
    "        \n",
    "          # Llamo a la función para corre la tabla\n",
    "        amortizar (d = d1, t = t1, n = n1)\n",
    "    \n",
    "    elif opcion == '2':\n",
    "        a = float(input('Ingrese el valor de a: '))\n",
    "        b = float(input('Ingrese el valor de b: '))\n",
    "        opc = input('Ingrese el signo de la operación: ')\n",
    "        \n",
    "        # Llamo a la función para corre la calculadora \n",
    "        calculadora(a,b,opc)\n",
    "    \n",
    "    else:\n",
    "        print('Salir')"
   ]
  },
  {
   "cell_type": "code",
   "execution_count": 16,
   "metadata": {},
   "outputs": [
    {
     "name": "stdout",
     "output_type": "stream",
     "text": [
      "*****************************************\n",
      " Seleccione la tarea que desea realizar\n",
      "1, Tabla de amortización\n",
      "2, Calculadora básica\n",
      "Seleccion: 1\n",
      "*****************************************\n",
      "Ingres el valor de la deuda: 5000000\n",
      "Ingrese la tasa de amortización: 0.11\n",
      "Ingrese el número de periodos: 10\n",
      "{'d': '5000000', 't': '0.11', 'n': '10'}\n",
      "Deuda:  5000000\n",
      "Tasa:  0.11\n",
      "Periodos:  10\n",
      "[550000.0, 299007.1354874512, 4700992.864512549, 1]\n",
      "[517109.2150963804, 331897.92039107083, 4369094.944121478, 2]\n",
      "[480600.4438533626, 368406.69163408864, 4000688.2524873894, 3]\n",
      "[440075.7077736128, 408931.4277138384, 3591756.824773551, 4]\n",
      "[395093.2507250906, 453913.8847623606, 3137842.9400111903, 5]\n",
      "[345162.72340123093, 503844.4120862203, 2633998.52792497, 6]\n",
      "[289739.8380717467, 559267.2974157045, 2074731.2305092653, 7]\n",
      "[228220.43535601918, 620786.700131432, 1453944.5303778332, 8]\n",
      "[159933.89834156164, 689073.2371458896, 764871.2932319436, 9]\n",
      "[84135.8422555138, 764871.2932319375, 6.170012056827545e-09, 10]\n"
     ]
    }
   ],
   "source": [
    "menu()"
   ]
  },
  {
   "cell_type": "code",
   "execution_count": 11,
   "metadata": {},
   "outputs": [
    {
     "name": "stdout",
     "output_type": "stream",
     "text": [
      "*****************************************\n",
      " Seleccione la tarea que desea realizar\n",
      "1, Tabla de amortización\n",
      "2, Calculadora básica\n",
      "Seleccion: 2\n",
      "*****************************************\n",
      "Ingrese el valor de a: 34\n",
      "Ingrese el valor de b: 6\n",
      "Ingrese el signo de la operación: +\n",
      "40.0\n"
     ]
    }
   ],
   "source": [
    "menu()"
   ]
  },
  {
   "cell_type": "code",
   "execution_count": 12,
   "metadata": {},
   "outputs": [
    {
     "name": "stdout",
     "output_type": "stream",
     "text": [
      "*****************************************\n",
      " Seleccione la tarea que desea realizar\n",
      "1, Tabla de amortización\n",
      "2, Calculadora básica\n",
      "Seleccion: \n",
      "*****************************************\n",
      "Salir\n"
     ]
    }
   ],
   "source": [
    "menu()"
   ]
  },
  {
   "cell_type": "code",
   "execution_count": null,
   "metadata": {},
   "outputs": [],
   "source": []
  }
 ],
 "metadata": {
  "kernelspec": {
   "display_name": "Python 3",
   "language": "python",
   "name": "python3"
  },
  "language_info": {
   "codemirror_mode": {
    "name": "ipython",
    "version": 3
   },
   "file_extension": ".py",
   "mimetype": "text/x-python",
   "name": "python",
   "nbconvert_exporter": "python",
   "pygments_lexer": "ipython3",
   "version": "3.8.5"
  }
 },
 "nbformat": 4,
 "nbformat_minor": 4
}
