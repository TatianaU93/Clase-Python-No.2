{
 "cells": [
  {
   "cell_type": "markdown",
   "metadata": {},
   "source": [
    "### Ejercicio 3"
   ]
  },
  {
   "cell_type": "markdown",
   "metadata": {},
   "source": [
    "##### Giro \"carrera\""
   ]
  },
  {
   "cell_type": "code",
   "execution_count": 18,
   "metadata": {},
   "outputs": [
    {
     "name": "stdout",
     "output_type": "stream",
     "text": [
      "Gire en la carrera 14\n"
     ]
    }
   ],
   "source": [
    "## Forma básica\n",
    "giro = 'carrera 14'\n",
    "\n",
    "if giro == 'carrera 9':\n",
    "    print('Gire en la',giro)\n",
    "if giro == 'carrera 10':\n",
    "    print('Gire en la',giro)\n",
    "if giro == 'carrera 11':\n",
    "    print('Gire en la',giro)\n",
    "if giro == 'carrera 12':\n",
    "    print('Gire en la',giro)\n",
    "if giro == 'carrera 13':\n",
    "    print('Gire en la',giro)\n",
    "if giro == 'carrera 14':\n",
    "    print('Gire en la',giro)\n",
    "if giro == 'carrera 15':\n",
    "    print('Gire en la',giro)"
   ]
  },
  {
   "cell_type": "code",
   "execution_count": 8,
   "metadata": {},
   "outputs": [
    {
     "name": "stdout",
     "output_type": "stream",
     "text": [
      "Ingrese la direccioncarrera 13\n",
      "Gire en la carrera 13\n"
     ]
    }
   ],
   "source": [
    "## Ingreso de la dirección por teclado y creación de la función\n",
    "\n",
    "giro = input('Ingrese la direccion')\n",
    "    \n",
    "if giro == 'carrera 9':\n",
    "    print('Gire en la',giro)\n",
    "\n",
    "if giro == 'carrera 10':\n",
    "    print('Gire en la',giro)\n",
    "\n",
    "if giro == 'carrera 11':\n",
    "    print('Gire en la',giro)\n",
    "\n",
    "if giro == 'carrera 12':\n",
    "    print('Gire en la',giro)\n",
    "\n",
    "if giro == 'carrera 13':\n",
    "    print('Gire en la',giro)\n",
    "\n",
    "if giro == 'carrera 14':\n",
    "    print('Gire en la',giro)\n",
    "\n",
    "if giro == 'carrera 15':\n",
    "    print('Gire en la',giro)"
   ]
  },
  {
   "cell_type": "code",
   "execution_count": 11,
   "metadata": {},
   "outputs": [],
   "source": [
    "def ejercicio3():\n",
    "    giro = input('Ingrese la direccion')\n",
    "    \n",
    "    if giro == 'carrera 9':\n",
    "        print('Gire en la',giro)\n",
    "\n",
    "    if giro == 'carrera 10':\n",
    "        print('Gire en la',giro)\n",
    "\n",
    "    if giro == 'carrera 11':\n",
    "        print('Gire en la',giro)\n",
    "\n",
    "    if giro == 'carrera 12':\n",
    "        print('Gire en la',giro)\n",
    "\n",
    "    if giro == 'carrera 13':\n",
    "        print('Gire en la',giro)\n",
    "\n",
    "    if giro == 'carrera 14':\n",
    "        print('Gire en la',giro)\n",
    "\n",
    "    if giro == 'carrera 15':\n",
    "        print('Gire en la',giro)"
   ]
  },
  {
   "cell_type": "code",
   "execution_count": 12,
   "metadata": {},
   "outputs": [
    {
     "name": "stdout",
     "output_type": "stream",
     "text": [
      "Ingrese la direccioncarrera 14\n",
      "Gire en la carrera 14\n"
     ]
    }
   ],
   "source": [
    "ejercicio3()"
   ]
  },
  {
   "cell_type": "code",
   "execution_count": 13,
   "metadata": {},
   "outputs": [],
   "source": [
    "def ejercicio3(giro:str):\n",
    "\n",
    "    if giro =='carrera 9':\n",
    "        print('Gire en la',giro)\n",
    "\n",
    "    if giro == 'carrera 10':\n",
    "        print('Gire en la',giro)\n",
    "\n",
    "    if giro == 'carrera 11':\n",
    "        print('Gire en la',giro)\n",
    "\n",
    "    if giro == 'carrera 12':\n",
    "        print('Gire en la',giro)\n",
    "\n",
    "    if giro == 'carrera 13':\n",
    "        print('Gire en la',giro)\n",
    "\n",
    "    if giro == 'carrera 14':\n",
    "        print('Gire en la',giro)\n",
    "\n",
    "    if giro == 'carrera 15':\n",
    "        print('Gire en la',giro)"
   ]
  },
  {
   "cell_type": "code",
   "execution_count": 14,
   "metadata": {},
   "outputs": [
    {
     "name": "stdout",
     "output_type": "stream",
     "text": [
      "Gire en la carrera 15\n"
     ]
    }
   ],
   "source": [
    "ejercicio3('carrera 15')"
   ]
  },
  {
   "cell_type": "markdown",
   "metadata": {},
   "source": [
    "##### Calculadora"
   ]
  },
  {
   "cell_type": "code",
   "execution_count": 24,
   "metadata": {},
   "outputs": [],
   "source": [
    "def calculadora(a:float,b:float,opc:str):\n",
    "    \n",
    "    #a = float(input('ingrese la operacion'))\n",
    "    #b = float(input('ingrese la operacion'))\n",
    "    #opc = str(input('ingrese el signo de la operación'))\n",
    "    \n",
    "    \n",
    "    if opc=='+':\n",
    "        c = a + b\n",
    "        print(c)\n",
    "\n",
    "\n",
    "    if opc== '-':\n",
    "        c = a - b\n",
    "        print(c)\n",
    "\n",
    "\n",
    "    if opc== '*':\n",
    "        c = a * b\n",
    "        print(c)\n",
    "\n",
    "\n",
    "    if opc== '/':\n",
    "        if b > 0:\n",
    "            c= a / b\n",
    "            print(c)\n",
    "        else:\n",
    "            print('Operación inválida')"
   ]
  },
  {
   "cell_type": "code",
   "execution_count": 32,
   "metadata": {},
   "outputs": [
    {
     "name": "stdout",
     "output_type": "stream",
     "text": [
      "ingrese el valor de a: 8\n",
      "ingrese el valor de b: 8\n",
      "ingrese el signo de la operación: -\n",
      "0.0\n"
     ]
    }
   ],
   "source": [
    "a = float(input('ingrese el valor de a: '))\n",
    "b = float(input('ingrese el valor de b: '))\n",
    "opc = str(input('ingrese el signo de la operación: '))\n",
    "\n",
    "\n",
    "calculadora(a,b,opc)"
   ]
  },
  {
   "cell_type": "markdown",
   "metadata": {},
   "source": [
    "##### Lista"
   ]
  },
  {
   "cell_type": "code",
   "execution_count": 20,
   "metadata": {},
   "outputs": [],
   "source": [
    "#Son aquellas que permiten almacenar información(estilo matriz) \n",
    "\n",
    "lista1 =  [ 1,2,3,5,7,9,10]"
   ]
  },
  {
   "cell_type": "code",
   "execution_count": 21,
   "metadata": {},
   "outputs": [
    {
     "name": "stdout",
     "output_type": "stream",
     "text": [
      "[1, 2, 3, 5, 7, 9, 10]\n"
     ]
    }
   ],
   "source": [
    "print(lista1)"
   ]
  },
  {
   "cell_type": "code",
   "execution_count": 26,
   "metadata": {},
   "outputs": [],
   "source": [
    "lista2 =  [] "
   ]
  },
  {
   "cell_type": "code",
   "execution_count": 27,
   "metadata": {},
   "outputs": [
    {
     "name": "stdout",
     "output_type": "stream",
     "text": [
      "[]\n"
     ]
    }
   ],
   "source": [
    "print(lista2)"
   ]
  },
  {
   "cell_type": "code",
   "execution_count": 30,
   "metadata": {},
   "outputs": [
    {
     "name": "stdout",
     "output_type": "stream",
     "text": [
      "[1, 1, 2, 3, 4, 1, 2, 3, 4]\n"
     ]
    }
   ],
   "source": [
    "lista2.append(1)\n",
    "lista2.append(2)\n",
    "lista2.append(3)\n",
    "lista2.append(4)\n",
    "\n",
    "print(lista2)\n",
    "\n",
    "## [1,1,2,3,4,1,2,3,4]  Numeros lista\n",
    "##  0,1,2,3,4,5,6,7,8   Ubicación"
   ]
  },
  {
   "cell_type": "code",
   "execution_count": 31,
   "metadata": {},
   "outputs": [
    {
     "name": "stdout",
     "output_type": "stream",
     "text": [
      "4\n"
     ]
    }
   ],
   "source": [
    "print(lista2[4])"
   ]
  },
  {
   "cell_type": "code",
   "execution_count": 49,
   "metadata": {},
   "outputs": [],
   "source": [
    "text = 'Esta es la clase de pyton básico'\n",
    "#'Esta es la clase de python básico'\n",
    "#0123456789"
   ]
  },
  {
   "cell_type": "code",
   "execution_count": 50,
   "metadata": {},
   "outputs": [
    {
     "name": "stdout",
     "output_type": "stream",
     "text": [
      "a\n",
      "Est\n",
      "a es la clase de pyton básico\n",
      "a\n"
     ]
    }
   ],
   "source": [
    "print(text[3])\n",
    "print(text[:3])\n",
    "print(text[3:])\n",
    "print(text[3:4])"
   ]
  },
  {
   "cell_type": "markdown",
   "metadata": {},
   "source": [
    "##### Ciclos Repetitivos"
   ]
  },
  {
   "cell_type": "code",
   "execution_count": 51,
   "metadata": {},
   "outputs": [
    {
     "name": "stdout",
     "output_type": "stream",
     "text": [
      "0\n",
      "1\n",
      "2\n",
      "3\n",
      "4\n",
      "5\n",
      "6\n",
      "7\n",
      "8\n",
      "9\n"
     ]
    }
   ],
   "source": [
    "for i in range(0,10):\n",
    "    print(i)"
   ]
  },
  {
   "cell_type": "code",
   "execution_count": 56,
   "metadata": {},
   "outputs": [],
   "source": [
    "#ListaEjemplo = [9,8,7,6,5,4,3,2,1]\n",
    "#\n",
    "ListaEjemplo = [\"a\",\"b\",\"c\",\"d\",\"e\"]"
   ]
  },
  {
   "cell_type": "code",
   "execution_count": 57,
   "metadata": {},
   "outputs": [
    {
     "name": "stdout",
     "output_type": "stream",
     "text": [
      "a\n",
      "b\n",
      "c\n",
      "d\n",
      "e\n"
     ]
    }
   ],
   "source": [
    "for  i in ListaEjemplo:\n",
    "    print(i)"
   ]
  },
  {
   "cell_type": "markdown",
   "metadata": {},
   "source": [
    "##### Tabla de Amortización"
   ]
  },
  {
   "cell_type": "code",
   "execution_count": 60,
   "metadata": {},
   "outputs": [],
   "source": [
    "def amortizar(d,t,n):\n",
    "    print('Deuda: ',d)\n",
    "    print('Tasa: ',t)\n",
    "    print('Periodos: ',n)"
   ]
  },
  {
   "cell_type": "code",
   "execution_count": 62,
   "metadata": {},
   "outputs": [
    {
     "name": "stdout",
     "output_type": "stream",
     "text": [
      "Deuda:  5000000\n",
      "Tasa:  11.13\n",
      "Periodos:  180\n"
     ]
    }
   ],
   "source": [
    "amortizar(5000000,11.13,180)"
   ]
  },
  {
   "cell_type": "code",
   "execution_count": 5,
   "metadata": {},
   "outputs": [],
   "source": [
    "def amortizar (**kwarg):\n",
    "    \n",
    "    print(kwarg)\n",
    "    print('Deuda: ', kwarg[\"d\"])\n",
    "    print('Tasa: ', kwarg[\"t\"])\n",
    "    print('Periodos: ', kwarg[\"n\"])\n",
    "    \n",
    "    d = float(kwarg[\"d\"])\n",
    "    t = float(kwarg[\"t\"])\n",
    "    n = int(kwarg[\"n\"])\n",
    "        \n",
    "    r = (d * t) / ( 1 - pow((1+t),-n)) # Cuota de Amortización\n",
    "    k = 0\n",
    "    tabla = []\n",
    "    while k!= n:\n",
    "        renglon = [] #estructura\n",
    "        \n",
    "        i = d * t # Interes\n",
    "        a = r - i # Amortización \n",
    "        d = d - a # Deuda\n",
    "        k += 1 # Contador \n",
    "        \n",
    "        renglon.append(i)\n",
    "        renglon.append(a)\n",
    "        renglon.append(d)\n",
    "        renglon.append(k)\n",
    "        tabla.append(renglon) #estructura\n",
    "    \n",
    "    for i in tabla:\n",
    "        print(i)\n",
    "        \n",
    "                \n",
    "#print('Intereses: ', i)\n",
    "#print('Amortizacion: ', a)\n",
    "#print('Deuda: ', d)\n",
    "#print('Periodos: ', k)"
   ]
  },
  {
   "cell_type": "code",
   "execution_count": 6,
   "metadata": {},
   "outputs": [
    {
     "name": "stdout",
     "output_type": "stream",
     "text": [
      "{'d': 5000000, 't': 0.11, 'n': 10}\n",
      "Deuda:  5000000\n",
      "Tasa:  0.11\n",
      "Periodos:  10\n",
      "[550000.0, 299007.1354874512, 4700992.864512549, 1]\n",
      "[517109.2150963804, 331897.92039107083, 4369094.944121478, 2]\n",
      "[480600.4438533626, 368406.69163408864, 4000688.2524873894, 3]\n",
      "[440075.7077736128, 408931.4277138384, 3591756.824773551, 4]\n",
      "[395093.2507250906, 453913.8847623606, 3137842.9400111903, 5]\n",
      "[345162.72340123093, 503844.4120862203, 2633998.52792497, 6]\n",
      "[289739.8380717467, 559267.2974157045, 2074731.2305092653, 7]\n",
      "[228220.43535601918, 620786.700131432, 1453944.5303778332, 8]\n",
      "[159933.89834156164, 689073.2371458896, 764871.2932319436, 9]\n",
      "[84135.8422555138, 764871.2932319375, 6.170012056827545e-09, 10]\n"
     ]
    }
   ],
   "source": [
    "amortizar (d = 5000000, t = 0.11, n = 10)"
   ]
  },
  {
   "cell_type": "markdown",
   "metadata": {},
   "source": [
    "##### Multiplicación de Vectores"
   ]
  },
  {
   "cell_type": "code",
   "execution_count": 1,
   "metadata": {},
   "outputs": [],
   "source": [
    "import numpy as np"
   ]
  },
  {
   "cell_type": "code",
   "execution_count": null,
   "metadata": {},
   "outputs": [],
   "source": [
    "#Ingreso de la matriz A\n",
    "A= np.array([[2,3,1],[2,-7,-4]])   # array=arreglo\n",
    "\n",
    "#Ingreso de la matriz 0\n",
    "B= np.array([[3,4,5],[1,1,4],[2,1,4]])\n",
    "\n",
    "print(\"solución\", np.linalg.solve(B,A))"
   ]
  },
  {
   "cell_type": "code",
   "execution_count": null,
   "metadata": {},
   "outputs": [],
   "source": []
  },
  {
   "cell_type": "markdown",
   "metadata": {},
   "source": [
    "##### Busqueda de Caracter"
   ]
  },
  {
   "cell_type": "code",
   "execution_count": 7,
   "metadata": {},
   "outputs": [
    {
     "name": "stdout",
     "output_type": "stream",
     "text": [
      "30\n"
     ]
    }
   ],
   "source": [
    "texto = 'Clase de python X curso básico'\n",
    "print(len(texto)) "
   ]
  },
  {
   "cell_type": "code",
   "execution_count": 14,
   "metadata": {},
   "outputs": [
    {
     "name": "stdout",
     "output_type": "stream",
     "text": [
      "lo encontre en 16\n"
     ]
    }
   ],
   "source": [
    "caracter = 'X'\n",
    "contador = 0\n",
    "for i in texto:\n",
    "    #contador = contador +1\n",
    "    if i == caracter:\n",
    "        print('lo encontre en',contador)\n",
    "    contador += 1"
   ]
  },
  {
   "cell_type": "code",
   "execution_count": 15,
   "metadata": {},
   "outputs": [
    {
     "name": "stdout",
     "output_type": "stream",
     "text": [
      "p\n"
     ]
    }
   ],
   "source": [
    "print(texto[9])"
   ]
  },
  {
   "cell_type": "code",
   "execution_count": 17,
   "metadata": {},
   "outputs": [
    {
     "name": "stdout",
     "output_type": "stream",
     "text": [
      "9\n"
     ]
    }
   ],
   "source": [
    "print(texto.find('p'))"
   ]
  }
 ],
 "metadata": {
  "kernelspec": {
   "display_name": "Python 3",
   "language": "python",
   "name": "python3"
  },
  "language_info": {
   "codemirror_mode": {
    "name": "ipython",
    "version": 3
   },
   "file_extension": ".py",
   "mimetype": "text/x-python",
   "name": "python",
   "nbconvert_exporter": "python",
   "pygments_lexer": "ipython3",
   "version": "3.8.5"
  }
 },
 "nbformat": 4,
 "nbformat_minor": 4
}
